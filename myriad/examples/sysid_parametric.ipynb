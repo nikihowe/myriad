{
 "cells": [
  {
   "cell_type": "markdown",
   "source": [
    "Use this notebook to run system identification to find the parameters of a known dynamics model."
   ],
   "metadata": {
    "collapsed": false,
    "pycharm": {
     "name": "#%% md\n"
    }
   }
  },
  {
   "cell_type": "code",
   "execution_count": 4,
   "metadata": {
    "pycharm": {
     "name": "#%%\n"
    }
   },
   "outputs": [],
   "source": [
    "# Load the necessary libraries\n",
    "from myriad.config import HParams, Config, SystemType, OptimizerType\n",
    "from myriad.experiments.mle_sysid import run_mle_sysid"
   ]
  },
  {
   "cell_type": "markdown",
   "source": [
    "Now we'll choose which hyperparameter settings to use. In this example, we choose to work on the Cancer Treatment environment. We use multiple shooting for trajectory optimization, with 1 shooting intervals of 100 controls. We leave everything else at the default values."
   ],
   "metadata": {
    "collapsed": false,
    "pycharm": {
     "name": "#%% md\n"
    }
   }
  },
  {
   "cell_type": "code",
   "execution_count": 5,
   "metadata": {
    "pycharm": {
     "name": "#%%\n"
    }
   },
   "outputs": [],
   "source": [
    "# Create hyperparameter and config objects\n",
    "# This is the place to specify environment or solver hyperparameters; see config.py for a full list.\n",
    "hp = HParams(system=SystemType.CANCERTREATMENT,\n",
    "             optimizer=OptimizerType.SHOOTING,\n",
    "             intervals=1,\n",
    "             controls_per_interval=100)\n",
    "cfg = Config()"
   ]
  },
  {
   "cell_type": "markdown",
   "source": [
    "In order to perform system identification, we need to have a guess at reasonable values for the parameters. For the environments in Myriad, some reasonable initial guesses are given in `defaults.py`. If you'd like to start with a different initial guess, or create initial guesses for a new environment, modify/add them to the `defaults.py` file.\n",
    "\n",
    "For example, you can see that the cancer treatment domain has $r = 0.3$ and $\\delta = 0.45$, with initial guesses of $0.1$ and $0.8$"
   ],
   "metadata": {
    "collapsed": false,
    "pycharm": {
     "name": "#%% md\n"
    }
   }
  },
  {
   "cell_type": "markdown",
   "source": [
    "When we run system identification, we generate datasets which are used to fit the parameters. Look for them in the `datasets` directory. Also, look for train and validation losses in the `losses` directory, and for the current guess at parameter values in the `params` directory. Finally, various plots will be generated and put in the `plots` directory, so you can see how the learning process went."
   ],
   "metadata": {
    "collapsed": false,
    "pycharm": {
     "name": "#%% md\n"
    }
   }
  },
  {
   "cell_type": "markdown",
   "source": [
    "All that's left is to run the system identification!"
   ],
   "metadata": {
    "collapsed": false,
    "pycharm": {
     "name": "#%% md\n"
    }
   }
  },
  {
   "cell_type": "code",
   "execution_count": null,
   "outputs": [],
   "source": [
    "run_mle_sysid(hp, cfg)"
   ],
   "metadata": {
    "collapsed": false,
    "pycharm": {
     "name": "#%%\n",
     "is_executing": true
    }
   }
  },
  {
   "cell_type": "code",
   "execution_count": 6,
   "outputs": [],
   "source": [],
   "metadata": {
    "collapsed": false,
    "pycharm": {
     "name": "#%%\n"
    }
   }
  }
 ],
 "metadata": {
  "kernelspec": {
   "display_name": "Python 3 (ipykernel)",
   "language": "python",
   "name": "python3"
  },
  "language_info": {
   "codemirror_mode": {
    "name": "ipython",
    "version": 3
   },
   "file_extension": ".py",
   "mimetype": "text/x-python",
   "name": "python",
   "nbconvert_exporter": "python",
   "pygments_lexer": "ipython3",
   "version": "3.9.13"
  }
 },
 "nbformat": 4,
 "nbformat_minor": 1
}