{
 "cells": [
  {
   "cell_type": "markdown",
   "source": [
    "This notebook gives an example of how to perform trajectory optimization with an algorithm of your choosing, on an environment of your choosing."
   ],
   "metadata": {
    "collapsed": false,
    "pycharm": {
     "name": "#%% md\n"
    }
   }
  },
  {
   "cell_type": "markdown",
   "source": [
    "First, we load the trajectory optimization library from Myraid, along with some config files."
   ],
   "metadata": {
    "collapsed": false,
    "pycharm": {
     "name": "#%% md\n"
    }
   }
  },
  {
   "cell_type": "code",
   "execution_count": 1,
   "outputs": [
    {
     "name": "stderr",
     "output_type": "stream",
     "text": [
      "/Users/niki/Documents/udem_mila/MSc/mila_thesis_code/myriad/venv/lib/python3.9/site-packages/haiku/_src/data_structures.py:37: FutureWarning: jax.tree_structure is deprecated, and will be removed in a future release. Use jax.tree_util.tree_structure instead.\n",
      "  PyTreeDef = type(jax.tree_structure(None))\n"
     ]
    }
   ],
   "source": [
    "# Load the necessary libraries\n",
    "from myriad.useful_scripts import run_trajectory_opt\n",
    "from myriad.config import HParams, Config, SystemType, OptimizerType"
   ],
   "metadata": {
    "collapsed": false,
    "pycharm": {
     "name": "#%%\n"
    }
   }
  },
  {
   "cell_type": "markdown",
   "source": [
    "Now we'll choose which hyperparameter settings to use. In this example, we choose to work on the Cancer Treatment environment. We use multiple shooting for trajectory optimization, with 5 shooting intervals of 20 controls each. We leave everything else at the default values."
   ],
   "metadata": {
    "collapsed": false,
    "pycharm": {
     "name": "#%% md\n"
    }
   }
  },
  {
   "cell_type": "code",
   "execution_count": 2,
   "outputs": [],
   "source": [
    "# Create hyperparameter and config objects\n",
    "# This is the place to specify environment or solver hyperparameters; see config.py for a full list.\n",
    "hp = HParams(system=SystemType.CANCERTREATMENT,\n",
    "             optimizer=OptimizerType.SHOOTING,\n",
    "             intervals=5,\n",
    "             controls_per_interval=20,)\n",
    "cfg = Config()"
   ],
   "metadata": {
    "collapsed": false,
    "pycharm": {
     "name": "#%%\n"
    }
   }
  },
  {
   "cell_type": "markdown",
   "source": [
    "All that's left is to run the trajectory optimization!"
   ],
   "metadata": {
    "collapsed": false,
    "pycharm": {
     "name": "#%% md\n"
    }
   }
  },
  {
   "cell_type": "code",
   "execution_count": null,
   "outputs": [],
   "source": [
    "# Run the trajectory optimization procedure\n",
    "integrated_cost = run_trajectory_opt(hp, cfg)"
   ],
   "metadata": {
    "collapsed": false,
    "pycharm": {
     "name": "#%%\n",
     "is_executing": true
    }
   }
  },
  {
   "cell_type": "code",
   "execution_count": null,
   "outputs": [],
   "source": [],
   "metadata": {
    "collapsed": false,
    "pycharm": {
     "name": "#%%\n"
    }
   }
  }
 ],
 "metadata": {
  "kernelspec": {
   "display_name": "Python 3",
   "language": "python",
   "name": "python3"
  },
  "language_info": {
   "codemirror_mode": {
    "name": "ipython",
    "version": 2
   },
   "file_extension": ".py",
   "mimetype": "text/x-python",
   "name": "python",
   "nbconvert_exporter": "python",
   "pygments_lexer": "ipython2",
   "version": "2.7.6"
  }
 },
 "nbformat": 4,
 "nbformat_minor": 0
}