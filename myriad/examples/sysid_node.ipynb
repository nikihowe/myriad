{
 "cells": [
  {
   "cell_type": "markdown",
   "source": [
    "Use this notebook to perform sysid on a system with known dynamics structure."
   ],
   "metadata": {
    "collapsed": false,
    "pycharm": {
     "name": "#%% md\n"
    }
   }
  },
  {
   "cell_type": "code",
   "execution_count": 1,
   "outputs": [
    {
     "name": "stderr",
     "output_type": "stream",
     "text": [
      "/Users/niki/Documents/udem_mila/MSc/mila_thesis_code/myriad/venv/lib/python3.9/site-packages/haiku/_src/data_structures.py:37: FutureWarning: jax.tree_structure is deprecated, and will be removed in a future release. Use jax.tree_util.tree_structure instead.\n",
      "  PyTreeDef = type(jax.tree_structure(None))\n"
     ]
    }
   ],
   "source": [
    "# Load the necessary libraries\n",
    "from myriad.useful_scripts import run_trajectory_opt\n",
    "from myriad.config import HParams, Config, SystemType\n",
    "from myriad.experiments.node_mle_sysid import run_node_mle_sysid"
   ],
   "metadata": {
    "collapsed": false,
    "pycharm": {
     "name": "#%%\n"
    }
   }
  },
  {
   "cell_type": "code",
   "execution_count": 2,
   "outputs": [],
   "source": [
    "# Create hyperparameter and config objects\n",
    "# This is the place to specify environment or solver hyperparameters; see config.py for a full list.\n",
    "hp = HParams(system=SystemType.CANCERTREATMENT,\n",
    "             intervals=1,\n",
    "             controls_per_interval=100)\n",
    "cfg = Config()"
   ],
   "metadata": {
    "collapsed": false,
    "pycharm": {
     "name": "#%%\n"
    }
   }
  },
  {
   "cell_type": "code",
   "execution_count": 3,
   "outputs": [],
   "source": [
    "# Note that the guesses for the parameters are contained in (and can be modified from) `defaults.py`."
   ],
   "metadata": {
    "collapsed": false,
    "pycharm": {
     "name": "#%%\n"
    }
   }
  },
  {
   "cell_type": "code",
   "execution_count": 4,
   "outputs": [],
   "source": [
    "# Run the system identification. Look in `datasets` for the generated train/val/test datasets, in `losses` for the train and val losses, in `params` for the learned parameters, and in `plots` for the resulting plots."
   ],
   "metadata": {
    "collapsed": false,
    "pycharm": {
     "name": "#%%\n"
    }
   }
  },
  {
   "cell_type": "code",
   "execution_count": 5,
   "outputs": [
    {
     "name": "stdout",
     "output_type": "stream",
     "text": [
      "initial controls shape (106, 101, 1)\n",
      "Generating training control trajectories between bounds:\n",
      "  u lower [0.]\n",
      "  u upper [2.]\n",
      "of shapes:\n",
      "  xs shape (106, 101, 1)\n",
      "  us shape (106, 101, 1)\n",
      "  together (106, 101, 2)\n",
      "Generated training trajectories of shape (100, 101, 2)\n",
      "Generated validation trajectories of shape (3, 101, 2)\n",
      "Generated test trajectories of shape (3, 101, 2)\n",
      "node: params initialized with:  (2,)\n"
     ]
    },
    {
     "name": "stderr",
     "output_type": "stream",
     "text": [
      "/Users/niki/Documents/udem_mila/MSc/mila_thesis_code/myriad/venv/lib/python3.9/site-packages/haiku/_src/data_structures.py:144: FutureWarning: jax.tree_flatten is deprecated, and will be removed in a future release. Use jax.tree_util.tree_flatten instead.\n",
      "  leaves, treedef = jax.tree_flatten(tree)\n",
      "/Users/niki/Documents/udem_mila/MSc/mila_thesis_code/myriad/venv/lib/python3.9/site-packages/haiku/_src/data_structures.py:145: FutureWarning: jax.tree_unflatten is deprecated, and will be removed in a future release. Use jax.tree_util.tree_unflatten instead.\n",
      "  return jax.tree_unflatten(treedef, leaves)\n"
     ]
    },
    {
     "name": "stdout",
     "output_type": "stream",
     "text": [
      "node: minibatches are of shape (3, 101, 2)\n",
      "node: initialized network weights\n",
      "the controls guess is (101, 1)\n",
      "hp opt type OptimizerType.SHOOTING\n",
      "hp quadrature rule QuadratureRule.TRAPEZOIDAL\n",
      "guess.shape = (103,)\n",
      "bounds.shape = (103, 2)\n",
      "\n",
      "******************************************************************************\n",
      "This program contains Ipopt, a library for large-scale nonlinear optimization.\n",
      " Ipopt is released as open source code under the Eclipse Public License (EPL).\n",
      "         For more information visit https://github.com/coin-or/Ipopt\n",
      "******************************************************************************\n",
      "\n",
      "Solver exited with success: True\n",
      "Completed in 2.1710851192474365 seconds.\n",
      "Cost given by solver: 20.57355334918213\n",
      "Cost given by integrating the control trajectory: 20.57355334918213\n",
      "the controls guess is (101, 1)\n",
      "hp opt type OptimizerType.SHOOTING\n",
      "hp quadrature rule QuadratureRule.TRAPEZOIDAL\n",
      "guess.shape = (103,)\n",
      "bounds.shape = (103, 2)\n",
      "### EXPERIMENT 0 ###\n",
      "loaded node params from file\n"
     ]
    },
    {
     "name": "stderr",
     "output_type": "stream",
     "text": [
      "/Users/niki/Documents/udem_mila/MSc/mila_thesis_code/myriad/venv/lib/python3.9/site-packages/haiku/_src/data_structures.py:207: FutureWarning: jax.tree_flatten is deprecated, and will be removed in a future release. Use jax.tree_util.tree_flatten instead.\n",
      "  leaves, structure = jax.tree_flatten(mapping)\n"
     ]
    },
    {
     "name": "stdout",
     "output_type": "stream",
     "text": [
      "Solver exited with success: True\n",
      "Completed in 2.368647813796997 seconds.\n",
      "Cost given by solver: 22.047475547404865\n",
      "Cost given by integrating the control trajectory: 20.82014354225164\n",
      "plotting losses for experiment 0\n",
      "title is Cancer Treatment\n",
      "plot was saved as plots/CANCERTREATMENT/node_mle_sysid/noise_0.0_smoothed_False_100_3_3_exp_0_training.png\n",
      "x0 (1,) [0.71542079]\n"
     ]
    }
   ],
   "source": [
    "run_node_mle_sysid(hp, cfg)"
   ],
   "metadata": {
    "collapsed": false,
    "pycharm": {
     "name": "#%%\n"
    }
   }
  },
  {
   "cell_type": "code",
   "execution_count": null,
   "outputs": [],
   "source": [],
   "metadata": {
    "collapsed": false,
    "pycharm": {
     "name": "#%%\n"
    }
   }
  }
 ],
 "metadata": {
  "kernelspec": {
   "display_name": "Python 3",
   "language": "python",
   "name": "python3"
  },
  "language_info": {
   "codemirror_mode": {
    "name": "ipython",
    "version": 2
   },
   "file_extension": ".py",
   "mimetype": "text/x-python",
   "name": "python",
   "nbconvert_exporter": "python",
   "pygments_lexer": "ipython2",
   "version": "2.7.6"
  }
 },
 "nbformat": 4,
 "nbformat_minor": 0
}