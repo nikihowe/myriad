{
 "cells": [
  {
   "cell_type": "markdown",
   "source": [
    "Use this notebook to perform sysid using a Neural ODE on a system with unknown dynamics."
   ],
   "metadata": {
    "collapsed": false,
    "pycharm": {
     "name": "#%% md\n"
    }
   }
  },
  {
   "cell_type": "code",
   "execution_count": 4,
   "outputs": [],
   "source": [
    "# Load the necessary libraries\n",
    "from myriad.config import HParams, Config, SystemType, OptimizerType\n",
    "from myriad.experiments.node_mle_sysid import run_node_mle_sysid"
   ],
   "metadata": {
    "collapsed": false,
    "pycharm": {
     "name": "#%%\n"
    }
   }
  },
  {
   "cell_type": "markdown",
   "source": [
    "Now we choose which hyperparameter settings to use. In this example, we choose to work on the Cancer Treatment environment. We use multiple shooting for trajectory optimization, with 1 shooting interval of 100 controls. We'll use a network with two hidden layers of size 100 each. We leave everything else at the default values."
   ],
   "metadata": {
    "collapsed": false,
    "pycharm": {
     "name": "#%% md\n"
    }
   }
  },
  {
   "cell_type": "code",
   "execution_count": 5,
   "outputs": [],
   "source": [
    "# Create hyperparameter and config objects\n",
    "# This is the place to specify environment or solver hyperparameters; see config.py for a full list.\n",
    "hp = HParams(system=SystemType.CANCERTREATMENT,\n",
    "             optimizer=OptimizerType.SHOOTING,\n",
    "             intervals=1,\n",
    "             controls_per_interval=100,\n",
    "             hidden_layers=(100, 100))\n",
    "cfg = Config()"
   ],
   "metadata": {
    "collapsed": false,
    "pycharm": {
     "name": "#%%\n"
    }
   }
  },
  {
   "cell_type": "markdown",
   "source": [
    "Note that since we are learning a black-box dynamics model, there is no simple way to interpret the learned parameters as we do in the parametric model case."
   ],
   "metadata": {
    "collapsed": false,
    "pycharm": {
     "name": "#%% md\n"
    }
   }
  },
  {
   "cell_type": "markdown",
   "source": [
    "When we run system identification, we generate datasets which are used to fit the parameters. Look for them in the `datasets` directory. Also, look for train and validation losses in the `losses` directory, and for the Neural ODE parameters in the `params` directory. Finally, various plots will be generated and put in the `plots` directory, so you can see how the learning process went.\n"
   ],
   "metadata": {
    "collapsed": false,
    "pycharm": {
     "name": "#%% md\n"
    }
   }
  },
  {
   "cell_type": "markdown",
   "source": [
    "All that's left is to run the system identification!"
   ],
   "metadata": {
    "collapsed": false,
    "pycharm": {
     "name": "#%% md\n"
    }
   }
  },
  {
   "cell_type": "code",
   "execution_count": null,
   "outputs": [],
   "source": [
    "run_node_mle_sysid(hp, cfg)"
   ],
   "metadata": {
    "collapsed": false,
    "pycharm": {
     "name": "#%%\n",
     "is_executing": true
    }
   }
  },
  {
   "cell_type": "code",
   "execution_count": 6,
   "outputs": [],
   "source": [],
   "metadata": {
    "collapsed": false,
    "pycharm": {
     "name": "#%%\n"
    }
   }
  }
 ],
 "metadata": {
  "kernelspec": {
   "display_name": "Python 3",
   "language": "python",
   "name": "python3"
  },
  "language_info": {
   "codemirror_mode": {
    "name": "ipython",
    "version": 2
   },
   "file_extension": ".py",
   "mimetype": "text/x-python",
   "name": "python",
   "nbconvert_exporter": "python",
   "pygments_lexer": "ipython2",
   "version": "2.7.6"
  }
 },
 "nbformat": 4,
 "nbformat_minor": 0
}